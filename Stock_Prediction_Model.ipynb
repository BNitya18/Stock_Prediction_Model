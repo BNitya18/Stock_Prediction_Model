{
  "cells": [
    {
      "cell_type": "markdown",
      "metadata": {
        "id": "view-in-github",
        "colab_type": "text"
      },
      "source": [
        "<a href=\"https://colab.research.google.com/github/BNitya18/Stock_Prediction_Model/blob/main/Stock_Prediction_Model.ipynb\" target=\"_parent\"><img src=\"https://colab.research.google.com/assets/colab-badge.svg\" alt=\"Open In Colab\"/></a>"
      ]
    },
    {
      "cell_type": "code",
      "execution_count": null,
      "metadata": {
        "id": "ouaZ03-ZxHWe"
      },
      "outputs": [],
      "source": [
        "!pip install vaderSentiment\n",
        "!pip install textblob\n",
        "!pip install SentimentIntensityAnalyzer\n",
        "!pip install article\n",
        "!pip install lxml_html_clean\n",
        "!pip install newspaper3k\n",
        "!pip install streamlit"
      ]
    },
    {
      "cell_type": "code",
      "execution_count": null,
      "metadata": {
        "id": "LhaZVRtuwA8T"
      },
      "outputs": [],
      "source": [
        "import yfinance as yf\n",
        "import pandas as pd\n",
        "import matplotlib.pyplot as plt\n",
        "import streamlit as st\n",
        "from sklearn.ensemble import RandomForestClassifier\n",
        "from sklearn.model_selection import train_test_split\n",
        "from sklearn.preprocessing import StandardScaler\n",
        "from sklearn.metrics import accuracy_score\n",
        "from newspaper import Article\n",
        "from textblob import TextBlob\n",
        "from vaderSentiment.vaderSentiment import SentimentIntensityAnalyzer"
      ]
    },
    {
      "cell_type": "code",
      "execution_count": null,
      "metadata": {
        "id": "XW3JwFg0xi1H"
      },
      "outputs": [],
      "source": [
        "def fetch_stock_data(ticker):\n",
        "    stock = yf.Ticker(ticker)\n",
        "    data = stock.history(period=\"1y\")\n",
        "    data['Price Change'] = data['Close'].diff()  # Calculate daily price change\n",
        "    data['Direction'] = data['Price Change'].apply(lambda x: 1 if x > 0 else 0)  # 1 for up, 0 for down\n",
        "    data.dropna(inplace=True)\n",
        "    return data"
      ]
    },
    {
      "cell_type": "code",
      "execution_count": null,
      "metadata": {
        "id": "cPoyQ7iaxmQW"
      },
      "outputs": [],
      "source": [
        "def fetch_financial_news(ticker):\n",
        "    query = f'{ticker} financial news'\n",
        "    articles = Article(f'https://news.google.com/search?q={query}')\n",
        "    articles.download()\n",
        "    articles.parse()\n",
        "    return articles.text"
      ]
    },
    {
      "cell_type": "code",
      "execution_count": null,
      "metadata": {
        "id": "2dw_D9yYxqNf"
      },
      "outputs": [],
      "source": [
        "def analyze_sentiment_textblob(news_text):\n",
        "    analysis = TextBlob(news_text)\n",
        "    sentiment_score = analysis.sentiment.polarity  # -1 to 1 scale (negative to positive sentiment)\n",
        "    return sentiment_score"
      ]
    },
    {
      "cell_type": "code",
      "execution_count": null,
      "metadata": {
        "id": "Sa47luWTxw5z"
      },
      "outputs": [],
      "source": [
        "def analyze_sentiment_vader(news_text):\n",
        "    analyzer = SentimentIntensityAnalyzer()\n",
        "    sentiment = analyzer.polarity_scores(news_text)\n",
        "    return sentiment['compound']  # Returns a value between -1 and 1\n"
      ]
    },
    {
      "cell_type": "code",
      "execution_count": null,
      "metadata": {
        "id": "wvLrg_MLx4mV"
      },
      "outputs": [],
      "source": [
        "def train_model(data):\n",
        "    # Features and target\n",
        "    features = data[['Open', 'High', 'Low', 'Close', 'Volume']]\n",
        "    target = data['Direction']\n",
        "\n",
        "    # Scale features\n",
        "    scaler = StandardScaler()\n",
        "    features_scaled = scaler.fit_transform(features)\n",
        "\n",
        "    # Train-test split\n",
        "    X_train, X_test, y_train, y_test = train_test_split(features_scaled, target, test_size=0.2, random_state=42)\n",
        "\n",
        "    # Model training\n",
        "    model = RandomForestClassifier(n_estimators=100, random_state=42)\n",
        "    model.fit(X_train, y_train)\n",
        "\n",
        "    # Accuracy check\n",
        "    predictions = model.predict(X_test)\n",
        "    accuracy = accuracy_score(y_test, predictions)\n",
        "\n",
        "    return model, scaler, accuracy"
      ]
    },
    {
      "cell_type": "code",
      "execution_count": null,
      "metadata": {
        "id": "HeqXw65Lx6mO"
      },
      "outputs": [],
      "source": [
        "def predict_stock_direction(model, scaler, current_data, sentiment_score):\n",
        "    # Prepare current day's data for prediction\n",
        "    features = current_data[['Open', 'High', 'Low', 'Close', 'Volume']].values\n",
        "    features_scaled = scaler.transform(features)\n",
        "    prediction = model.predict(features_scaled[-1].reshape(1, -1))  # Predict the direction for the latest data point\n",
        "\n",
        "    # Adjust prediction with sentiment score (e.g., positive sentiment boosts likelihood of an upward trend)\n",
        "    adjusted_prediction = prediction[0]\n",
        "    if sentiment_score > 0:\n",
        "        adjusted_prediction = 1  # Positive sentiment could lead to an upward movement\n",
        "\n",
        "    return \"Stock will go high\" if adjusted_prediction == 1 else \"Stock will go down\""
      ]
    },
    {
      "cell_type": "code",
      "execution_count": null,
      "metadata": {
        "id": "a317H-M0yATG"
      },
      "outputs": [],
      "source": [
        "def visualize_stock_data(data, ticker):\n",
        "    fig, ax = plt.subplots(figsize=(12, 6))\n",
        "    ax.plot(data.index, data['Close'], label='Close Price', color='blue')\n",
        "    ax.set_title(f'Historical Stock Trend for {ticker}')\n",
        "    ax.set_xlabel('Date')\n",
        "    ax.set_ylabel('Close Price')\n",
        "    ax.grid(alpha=0.3)\n",
        "    ax.legend()\n",
        "    st.pyplot(fig)"
      ]
    },
    {
      "cell_type": "code",
      "execution_count": null,
      "metadata": {
        "id": "9tYQc0YpyDfW"
      },
      "outputs": [],
      "source": [
        "def main():\n",
        "    st.title(\"AI Financial Advisor with Stock Prediction\")\n",
        "\n",
        "    # Input from the user\n",
        "    ticker = st.text_input(\"Enter Stock Ticker (e.g., AAPL, TSLA): \").upper()\n",
        "\n",
        "    if ticker:\n",
        "        st.write(f\"Fetching data for {ticker}...\")\n",
        "\n",
        "        try:\n",
        "            # Fetch stock data\n",
        "            stock_data = fetch_stock_data(ticker)\n",
        "\n",
        "            # Fetch and analyze financial news\n",
        "            st.write(\"Fetching financial news...\")\n",
        "            news = fetch_financial_news(ticker)\n",
        "            sentiment_score = analyze_sentiment_vader(news)\n",
        "            st.write(f\"Sentiment Score for {ticker}: {sentiment_score}\")\n",
        "\n",
        "            # Visualize stock data\n",
        "            st.write(f\"Visualizing historical stock trends for {ticker}...\")\n",
        "            visualize_stock_data(stock_data, ticker)\n",
        "\n",
        "            # Train model\n",
        "            st.write(\"Training the model...\")\n",
        "            model, scaler, accuracy = train_model(stock_data)\n",
        "            st.write(f\"Model Accuracy: {accuracy * 100:.2f}%\")\n",
        "\n",
        "            # Make prediction with sentiment consideration\n",
        "            result = predict_stock_direction(model, scaler, stock_data, sentiment_score)\n",
        "            st.write(f\"Prediction: {result}\")\n",
        "\n",
        "        except Exception as e:\n",
        "            st.error(f\"An error occurred: {e}\")\n",
        "\n",
        "if __name__ == \"__main__\":\n",
        "    main()\n"
      ]
    },
    {
      "cell_type": "code",
      "execution_count": null,
      "metadata": {
        "colab": {
          "background_save": true,
          "base_uri": "https://localhost:8080/"
        },
        "id": "HO1MfvioyI4e",
        "outputId": "0272a3bc-e8f8-45cb-ed99-327cc1d7df7d"
      },
      "outputs": [
        {
          "name": "stdout",
          "output_type": "stream",
          "text": [
            "\n",
            "Collecting usage statistics. To deactivate, set browser.gatherUsageStats to false.\n",
            "\u001b[0m\n",
            "\u001b[0m\n",
            "\u001b[34m\u001b[1m  You can now view your Streamlit app in your browser.\u001b[0m\n",
            "\u001b[0m\n",
            "\u001b[34m  Local URL: \u001b[0m\u001b[1mhttp://localhost:8501\u001b[0m\n",
            "\u001b[34m  Network URL: \u001b[0m\u001b[1mhttp://172.28.0.12:8501\u001b[0m\n",
            "\u001b[34m  External URL: \u001b[0m\u001b[1mhttp://34.28.253.211:8501\u001b[0m\n",
            "\u001b[0m\n"
          ]
        }
      ],
      "source": [
        "!streamlit run /usr/local/lib/python3.10/dist-packages/colab_kernel_launcher.py"
      ]
    }
  ],
  "metadata": {
    "colab": {
      "provenance": [],
      "authorship_tag": "ABX9TyP0JO5MiSccz+dCgcaIpcXf",
      "include_colab_link": true
    },
    "kernelspec": {
      "display_name": "Python 3",
      "name": "python3"
    },
    "language_info": {
      "name": "python"
    }
  },
  "nbformat": 4,
  "nbformat_minor": 0
}